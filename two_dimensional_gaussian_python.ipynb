{
 "cells": [
  {
   "cell_type": "markdown",
   "metadata": {},
   "source": [
    "# ND Gaussian in Python\n",
    "\n",
    "This is an implementation of a multi-dimensional Gaussian function in Python, it can be used for testing other versions against. "
   ]
  },
  {
   "cell_type": "code",
   "execution_count": 1,
   "metadata": {
    "collapsed": true
   },
   "outputs": [],
   "source": [
    "import numpy as np"
   ]
  },
  {
   "cell_type": "markdown",
   "metadata": {},
   "source": [
    "This is the ND Gaussian function"
   ]
  },
  {
   "cell_type": "code",
   "execution_count": 2,
   "metadata": {
    "collapsed": true
   },
   "outputs": [],
   "source": [
    "def multivariate_gaussian(pos, mu, Sigma, s):\n",
    "    el = np.copy(Sigma)\n",
    "    for i in range(Sigma.shape[0]):\n",
    "        k = np.sqrt(Sigma[i, i])\n",
    "        for j in range(Sigma.shape[1]):\n",
    "            if i != j:\n",
    "                el[i, j] = Sigma[i, j] * k * np.sqrt(Sigma[j, j])\n",
    "                el[j, i] = Sigma[i, j] * k * np.sqrt(Sigma[j, j])\n",
    "    \n",
    "    n = mu.shape[0]\n",
    "    Sigma_det = np.linalg.det(el)\n",
    "    norm = s / np.sqrt(np.power(2.*np.pi, n) * Sigma_det)\n",
    "    \n",
    "    Sigma_inv = np.linalg.inv(el)\n",
    "    N = norm\n",
    "    # This einsum call calculates (x-mu)T.Sigma-1.(x-mu) in a vectorized\n",
    "    # way across all the input variables.\n",
    "    #fac = np.einsum('...k,kl,...l->...', pos-mu, Sigma_inv, pos-mu)\n",
    "    u = np.matmul(Sigma_inv, pos-mu)\n",
    "    fac = 0\n",
    "    for i in range(len(mu)):\n",
    "        fac += u[i] * (pos[i] - mu[i])\n",
    "    \n",
    "    return np.exp(-0.5 * fac) * N"
   ]
  },
  {
   "cell_type": "markdown",
   "metadata": {},
   "source": [
    "Below are the different iterations that I have run to test my own production code"
   ]
  },
  {
   "cell_type": "code",
   "execution_count": 3,
   "metadata": {},
   "outputs": [
    {
     "name": "stdout",
     "output_type": "stream",
     "text": [
      "0.1500527193595177\n"
     ]
    }
   ],
   "source": [
    "# Mean vector and covariance matrix\n",
    "mu = np.array([0., 1.])\n",
    "Sigma = np.array([[ 1. , -0.5], [-0.5,  1.5]])\n",
    "# The distribution on the variables X, Y packed into pos.\n",
    "Z = multivariate_gaussian(np.array([0, 1]), mu, Sigma, 1)\n",
    "print(Z)"
   ]
  },
  {
   "cell_type": "code",
   "execution_count": 4,
   "metadata": {},
   "outputs": [
    {
     "name": "stdout",
     "output_type": "stream",
     "text": [
      "0.18547678218242342\n"
     ]
    }
   ],
   "source": [
    "# Mean vector and covariance matrix\n",
    "mu = np.array([0., 1., 2])\n",
    "Sigma = np.array([[ 1. , 0.5, 0.25], [ 0.75 , 0.25, 0.75], [0.25, 0.5,  1.5]])\n",
    "# The distribution on the variables X, Y packed into pos.\n",
    "Z = multivariate_gaussian(mu, mu, Sigma, 1)\n",
    "print(Z)"
   ]
  },
  {
   "cell_type": "code",
   "execution_count": 5,
   "metadata": {},
   "outputs": [
    {
     "name": "stdout",
     "output_type": "stream",
     "text": [
      "0.6002108774380708\n"
     ]
    }
   ],
   "source": [
    "# Mean vector and covariance matrix\n",
    "mu = np.array([0., 1.])\n",
    "Sigma = np.array([[ 1. , -0.5], [-0.5,  1.5]])\n",
    "# The distribution on the variables X, Y packed into pos.\n",
    "Z = multivariate_gaussian(mu, mu, Sigma, 4)\n",
    "print(Z)"
   ]
  },
  {
   "cell_type": "code",
   "execution_count": null,
   "metadata": {
    "collapsed": true
   },
   "outputs": [],
   "source": []
  }
 ],
 "metadata": {
  "kernelspec": {
   "display_name": "Python [conda env:python3]",
   "language": "python",
   "name": "conda-env-python3-py"
  },
  "language_info": {
   "codemirror_mode": {
    "name": "ipython",
    "version": 3
   },
   "file_extension": ".py",
   "mimetype": "text/x-python",
   "name": "python",
   "nbconvert_exporter": "python",
   "pygments_lexer": "ipython3",
   "version": "3.6.7"
  }
 },
 "nbformat": 4,
 "nbformat_minor": 2
}
